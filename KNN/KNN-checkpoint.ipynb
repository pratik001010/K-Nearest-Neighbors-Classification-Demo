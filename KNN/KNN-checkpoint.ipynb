{
 "cells": [
  {
   "cell_type": "code",
   "execution_count": 1,
   "id": "141d37cd-6582-4120-9169-ea33b4266144",
   "metadata": {},
   "outputs": [
    {
     "ename": "ModuleNotFoundError",
     "evalue": "No module named 'sklearn'",
     "output_type": "error",
     "traceback": [
      "\u001b[31m---------------------------------------------------------------------------\u001b[39m",
      "\u001b[31mModuleNotFoundError\u001b[39m                       Traceback (most recent call last)",
      "\u001b[36mCell\u001b[39m\u001b[36m \u001b[39m\u001b[32mIn[1]\u001b[39m\u001b[32m, line 1\u001b[39m\n\u001b[32m----> \u001b[39m\u001b[32m1\u001b[39m \u001b[38;5;28;01mfrom\u001b[39;00m\u001b[38;5;250m \u001b[39m\u001b[34;01msklearn\u001b[39;00m\u001b[34;01m.\u001b[39;00m\u001b[34;01mdatasets\u001b[39;00m\u001b[38;5;250m \u001b[39m\u001b[38;5;28;01mimport\u001b[39;00m load_iris\n\u001b[32m      2\u001b[39m \u001b[38;5;28;01mfrom\u001b[39;00m\u001b[38;5;250m \u001b[39m\u001b[34;01msklearn\u001b[39;00m\u001b[34;01m.\u001b[39;00m\u001b[34;01mmodel_selection\u001b[39;00m\u001b[38;5;250m \u001b[39m\u001b[38;5;28;01mimport\u001b[39;00m train_test_split\n\u001b[32m      3\u001b[39m \u001b[38;5;28;01mfrom\u001b[39;00m\u001b[38;5;250m \u001b[39m\u001b[34;01msklearn\u001b[39;00m\u001b[34;01m.\u001b[39;00m\u001b[34;01mpipeline\u001b[39;00m\u001b[38;5;250m \u001b[39m\u001b[38;5;28;01mimport\u001b[39;00m Pipeline\n",
      "\u001b[31mModuleNotFoundError\u001b[39m: No module named 'sklearn'"
     ]
    }
   ],
   "source": [
    "from sklearn.datasets import load_iris\n",
    "from sklearn.model_selection import train_test_split\n",
    "from sklearn.pipeline import Pipeline\n",
    "from sklearn.preprocessing import StandardScaler\n",
    "from sklearn.neighbors import KNeighborsClassifier\n",
    "from sklearn.metrics import accuracy_score\n",
    "\n",
    "X, y = load_iris(return_X_y=True)\n",
    "Xtr, Xte, ytr, yte = train_test_split(X, y, test_size=0.25, random_state=42, stratify=y)\n",
    "\n",
    "model = Pipeline([\n",
    "    (\"scaler\", StandardScaler()),\n",
    "    (\"knn\", KNeighborsClassifier(n_neighbors=5, weights=\"distance\"))\n",
    "])\n",
    "\n",
    "model.fit(Xtr, ytr)\n",
    "yp = model.predict(Xte)\n",
    "print(\"Test accuracy:\", round(accuracy_score(yte, yp), 3))"
   ]
  },
  {
   "cell_type": "code",
   "execution_count": 1,
   "id": "bd7fbe93-0b9d-46f9-bcdf-782fc20c785c",
   "metadata": {},
   "outputs": [
    {
     "name": "stdout",
     "output_type": "stream",
     "text": [
      "Test accuracy: 0.947\n"
     ]
    }
   ],
   "source": [
    "from sklearn.datasets import load_iris\n",
    "from sklearn.model_selection import train_test_split\n",
    "from sklearn.pipeline import Pipeline\n",
    "from sklearn.preprocessing import StandardScaler\n",
    "from sklearn.neighbors import KNeighborsClassifier\n",
    "from sklearn.metrics import accuracy_score\n",
    "\n",
    "X, y = load_iris(return_X_y=True)\n",
    "Xtr, Xte, ytr, yte = train_test_split(X, y, test_size=0.25, random_state=42, stratify=y)\n",
    "\n",
    "model = Pipeline([\n",
    "    (\"scaler\", StandardScaler()),\n",
    "    (\"knn\", KNeighborsClassifier(n_neighbors=5, weights=\"distance\"))\n",
    "])\n",
    "\n",
    "model.fit(Xtr, ytr)\n",
    "yp = model.predict(Xte)\n",
    "print(\"Test accuracy:\", round(accuracy_score(yte, yp), 3))\n"
   ]
  },
  {
   "cell_type": "code",
   "execution_count": 2,
   "id": "88cdcf4c-f5be-4b82-a41c-657c6a7bf056",
   "metadata": {},
   "outputs": [
    {
     "name": "stdout",
     "output_type": "stream",
     "text": [
      "Train shape: (112, 4)  Test shape: (38, 4)\n",
      "Train class balance: {np.int64(0): np.int64(38), np.int64(1): np.int64(37), np.int64(2): np.int64(37)}\n"
     ]
    }
   ],
   "source": [
    "import numpy as np\n",
    "print(\"Train shape:\", Xtr.shape, \" Test shape:\", Xte.shape)\n",
    "unique, counts = np.unique(ytr, return_counts=True)\n",
    "print(\"Train class balance:\", dict(zip(unique, counts)))\n"
   ]
  },
  {
   "cell_type": "code",
   "execution_count": 4,
   "id": "6a40975d-a5bb-4a1f-8349-677187eb05ec",
   "metadata": {},
   "outputs": [
    {
     "name": "stdout",
     "output_type": "stream",
     "text": [
      "C:\\Users\\prati\\anaconda3\\envs\\knn\\python.exe\n",
      "Collecting matplotlib\n",
      "  Downloading matplotlib-3.10.7-cp313-cp313-win_amd64.whl.metadata (11 kB)\n",
      "Collecting contourpy>=1.0.1 (from matplotlib)\n",
      "  Downloading contourpy-1.3.3-cp313-cp313-win_amd64.whl.metadata (5.5 kB)\n",
      "Collecting cycler>=0.10 (from matplotlib)\n",
      "  Downloading cycler-0.12.1-py3-none-any.whl.metadata (3.8 kB)\n",
      "Collecting fonttools>=4.22.0 (from matplotlib)\n",
      "  Downloading fonttools-4.60.1-cp313-cp313-win_amd64.whl.metadata (114 kB)\n",
      "Collecting kiwisolver>=1.3.1 (from matplotlib)\n",
      "  Downloading kiwisolver-1.4.9-cp313-cp313-win_amd64.whl.metadata (6.4 kB)\n",
      "Requirement already satisfied: numpy>=1.23 in c:\\users\\prati\\anaconda3\\envs\\knn\\lib\\site-packages (from matplotlib) (2.3.3)\n",
      "Requirement already satisfied: packaging>=20.0 in c:\\users\\prati\\anaconda3\\envs\\knn\\lib\\site-packages (from matplotlib) (25.0)\n",
      "Collecting pillow>=8 (from matplotlib)\n",
      "  Downloading pillow-11.3.0-cp313-cp313-win_amd64.whl.metadata (9.2 kB)\n",
      "Collecting pyparsing>=3 (from matplotlib)\n",
      "  Downloading pyparsing-3.2.5-py3-none-any.whl.metadata (5.0 kB)\n",
      "Requirement already satisfied: python-dateutil>=2.7 in c:\\users\\prati\\anaconda3\\envs\\knn\\lib\\site-packages (from matplotlib) (2.9.0.post0)\n",
      "Requirement already satisfied: six>=1.5 in c:\\users\\prati\\anaconda3\\envs\\knn\\lib\\site-packages (from python-dateutil>=2.7->matplotlib) (1.17.0)\n",
      "Downloading matplotlib-3.10.7-cp313-cp313-win_amd64.whl (8.1 MB)\n",
      "   ---------------------------------------- 0.0/8.1 MB ? eta -:--:--\n",
      "   ------ --------------------------------- 1.3/8.1 MB 12.1 MB/s eta 0:00:01\n",
      "   ------ --------------------------------- 1.3/8.1 MB 12.1 MB/s eta 0:00:01\n",
      "   ------- -------------------------------- 1.6/8.1 MB 2.5 MB/s eta 0:00:03\n",
      "   --------- ------------------------------ 1.8/8.1 MB 2.4 MB/s eta 0:00:03\n",
      "   ---------- ----------------------------- 2.1/8.1 MB 2.2 MB/s eta 0:00:03\n",
      "   ------------ --------------------------- 2.6/8.1 MB 2.0 MB/s eta 0:00:03\n",
      "   ------------ --------------------------- 2.6/8.1 MB 2.0 MB/s eta 0:00:03\n",
      "   -------------- ------------------------- 2.9/8.1 MB 1.8 MB/s eta 0:00:03\n",
      "   --------------- ------------------------ 3.1/8.1 MB 1.7 MB/s eta 0:00:03\n",
      "   ---------------- ----------------------- 3.4/8.1 MB 1.7 MB/s eta 0:00:03\n",
      "   ------------------ --------------------- 3.7/8.1 MB 1.6 MB/s eta 0:00:03\n",
      "   ------------------- -------------------- 3.9/8.1 MB 1.5 MB/s eta 0:00:03\n",
      "   -------------------- ------------------- 4.2/8.1 MB 1.5 MB/s eta 0:00:03\n",
      "   --------------------- ------------------ 4.5/8.1 MB 1.5 MB/s eta 0:00:03\n",
      "   ----------------------- ---------------- 4.7/8.1 MB 1.5 MB/s eta 0:00:03\n",
      "   ------------------------ --------------- 5.0/8.1 MB 1.5 MB/s eta 0:00:03\n",
      "   ------------------------- -------------- 5.2/8.1 MB 1.4 MB/s eta 0:00:02\n",
      "   --------------------------- ------------ 5.5/8.1 MB 1.4 MB/s eta 0:00:02\n",
      "   ---------------------------- ----------- 5.8/8.1 MB 1.4 MB/s eta 0:00:02\n",
      "   ----------------------------- ---------- 6.0/8.1 MB 1.4 MB/s eta 0:00:02\n",
      "   ------------------------------ --------- 6.3/8.1 MB 1.4 MB/s eta 0:00:02\n",
      "   -------------------------------- ------- 6.6/8.1 MB 1.4 MB/s eta 0:00:02\n",
      "   --------------------------------- ------ 6.8/8.1 MB 1.4 MB/s eta 0:00:01\n",
      "   --------------------------------- ------ 6.8/8.1 MB 1.4 MB/s eta 0:00:01\n",
      "   ------------------------------------ --- 7.3/8.1 MB 1.4 MB/s eta 0:00:01\n",
      "   ------------------------------------- -- 7.6/8.1 MB 1.4 MB/s eta 0:00:01\n",
      "   -------------------------------------- - 7.9/8.1 MB 1.4 MB/s eta 0:00:01\n",
      "   -------------------------------------- - 7.9/8.1 MB 1.4 MB/s eta 0:00:01\n",
      "   ---------------------------------------- 8.1/8.1 MB 1.3 MB/s  0:00:05\n",
      "Downloading contourpy-1.3.3-cp313-cp313-win_amd64.whl (226 kB)\n",
      "Downloading cycler-0.12.1-py3-none-any.whl (8.3 kB)\n",
      "Downloading fonttools-4.60.1-cp313-cp313-win_amd64.whl (2.3 MB)\n",
      "   ---------------------------------------- 0.0/2.3 MB ? eta -:--:--\n",
      "   ---- ----------------------------------- 0.3/2.3 MB ? eta -:--:--\n",
      "   --------- ------------------------------ 0.5/2.3 MB 1.2 MB/s eta 0:00:02\n",
      "   ------------- -------------------------- 0.8/2.3 MB 1.2 MB/s eta 0:00:02\n",
      "   ------------------ --------------------- 1.0/2.3 MB 1.2 MB/s eta 0:00:01\n",
      "   ----------------------- ---------------- 1.3/2.3 MB 1.2 MB/s eta 0:00:01\n",
      "   --------------------------- ------------ 1.6/2.3 MB 1.2 MB/s eta 0:00:01\n",
      "   -------------------------------- ------- 1.8/2.3 MB 1.2 MB/s eta 0:00:01\n",
      "   ------------------------------------- -- 2.1/2.3 MB 1.2 MB/s eta 0:00:01\n",
      "   ------------------------------------- -- 2.1/2.3 MB 1.2 MB/s eta 0:00:01\n",
      "   ---------------------------------------- 2.3/2.3 MB 1.1 MB/s  0:00:01\n",
      "Downloading kiwisolver-1.4.9-cp313-cp313-win_amd64.whl (73 kB)\n",
      "Downloading pillow-11.3.0-cp313-cp313-win_amd64.whl (7.0 MB)\n",
      "   ---------------------------------------- 0.0/7.0 MB ? eta -:--:--\n",
      "   - -------------------------------------- 0.3/7.0 MB ? eta -:--:--\n",
      "   --- ------------------------------------ 0.5/7.0 MB 1.2 MB/s eta 0:00:06\n",
      "   ---- ----------------------------------- 0.8/7.0 MB 1.2 MB/s eta 0:00:06\n",
      "   ------ --------------------------------- 1.0/7.0 MB 1.2 MB/s eta 0:00:05\n",
      "   ------- -------------------------------- 1.3/7.0 MB 1.2 MB/s eta 0:00:05\n",
      "   --------- ------------------------------ 1.6/7.0 MB 1.2 MB/s eta 0:00:05\n",
      "   ---------- ----------------------------- 1.8/7.0 MB 1.2 MB/s eta 0:00:05\n",
      "   ------------ --------------------------- 2.1/7.0 MB 1.2 MB/s eta 0:00:05\n",
      "   ------------- -------------------------- 2.4/7.0 MB 1.2 MB/s eta 0:00:04\n",
      "   --------------- ------------------------ 2.6/7.0 MB 1.2 MB/s eta 0:00:04\n",
      "   ---------------- ----------------------- 2.9/7.0 MB 1.2 MB/s eta 0:00:04\n",
      "   ------------------ --------------------- 3.1/7.0 MB 1.2 MB/s eta 0:00:04\n",
      "   ------------------ --------------------- 3.1/7.0 MB 1.2 MB/s eta 0:00:04\n",
      "   --------------------- ------------------ 3.7/7.0 MB 1.2 MB/s eta 0:00:03\n",
      "   ---------------------- ----------------- 3.9/7.0 MB 1.2 MB/s eta 0:00:03\n",
      "   ------------------------ --------------- 4.2/7.0 MB 1.2 MB/s eta 0:00:03\n",
      "   ------------------------- -------------- 4.5/7.0 MB 1.2 MB/s eta 0:00:03\n",
      "   --------------------------- ------------ 4.7/7.0 MB 1.2 MB/s eta 0:00:02\n",
      "   --------------------------- ------------ 4.7/7.0 MB 1.2 MB/s eta 0:00:02\n",
      "   ---------------------------- ----------- 5.0/7.0 MB 1.2 MB/s eta 0:00:02\n",
      "   ------------------------------ --------- 5.2/7.0 MB 1.2 MB/s eta 0:00:02\n",
      "   ------------------------------- -------- 5.5/7.0 MB 1.2 MB/s eta 0:00:02\n",
      "   --------------------------------- ------ 5.8/7.0 MB 1.2 MB/s eta 0:00:02\n",
      "   ---------------------------------- ----- 6.0/7.0 MB 1.2 MB/s eta 0:00:01\n",
      "   ------------------------------------ --- 6.3/7.0 MB 1.2 MB/s eta 0:00:01\n",
      "   ------------------------------------- -- 6.6/7.0 MB 1.2 MB/s eta 0:00:01\n",
      "   ---------------------------------------  6.8/7.0 MB 1.2 MB/s eta 0:00:01\n",
      "   ---------------------------------------- 7.0/7.0 MB 1.2 MB/s  0:00:05\n",
      "Downloading pyparsing-3.2.5-py3-none-any.whl (113 kB)\n",
      "Installing collected packages: pyparsing, pillow, kiwisolver, fonttools, cycler, contourpy, matplotlib\n",
      "\n",
      "   ----- ---------------------------------- 1/7 [pillow]\n",
      "   ----- ---------------------------------- 1/7 [pillow]\n",
      "   ----- ---------------------------------- 1/7 [pillow]\n",
      "   ----- ---------------------------------- 1/7 [pillow]\n",
      "   ----------------- ---------------------- 3/7 [fonttools]\n",
      "   ----------------- ---------------------- 3/7 [fonttools]\n",
      "   ----------------- ---------------------- 3/7 [fonttools]\n",
      "   ----------------- ---------------------- 3/7 [fonttools]\n",
      "   ----------------- ---------------------- 3/7 [fonttools]\n",
      "   ----------------- ---------------------- 3/7 [fonttools]\n",
      "   ----------------- ---------------------- 3/7 [fonttools]\n",
      "   ----------------- ---------------------- 3/7 [fonttools]\n",
      "   ----------------- ---------------------- 3/7 [fonttools]\n",
      "   ---------------------------------- ----- 6/7 [matplotlib]\n",
      "   ---------------------------------- ----- 6/7 [matplotlib]\n",
      "   ---------------------------------- ----- 6/7 [matplotlib]\n",
      "   ---------------------------------- ----- 6/7 [matplotlib]\n",
      "   ---------------------------------- ----- 6/7 [matplotlib]\n",
      "   ---------------------------------- ----- 6/7 [matplotlib]\n",
      "   ---------------------------------- ----- 6/7 [matplotlib]\n",
      "   ---------------------------------- ----- 6/7 [matplotlib]\n",
      "   ---------------------------------- ----- 6/7 [matplotlib]\n",
      "   ---------------------------------- ----- 6/7 [matplotlib]\n",
      "   ---------------------------------- ----- 6/7 [matplotlib]\n",
      "   ---------------------------------- ----- 6/7 [matplotlib]\n",
      "   ---------------------------------- ----- 6/7 [matplotlib]\n",
      "   ---------------------------------- ----- 6/7 [matplotlib]\n",
      "   ---------------------------------- ----- 6/7 [matplotlib]\n",
      "   ---------------------------------- ----- 6/7 [matplotlib]\n",
      "   ---------------------------------------- 7/7 [matplotlib]\n",
      "\n",
      "Successfully installed contourpy-1.3.3 cycler-0.12.1 fonttools-4.60.1 kiwisolver-1.4.9 matplotlib-3.10.7 pillow-11.3.0 pyparsing-3.2.5\n",
      "Note: you may need to restart the kernel to use updated packages.\n"
     ]
    }
   ],
   "source": [
    "import sys; print(sys.executable)  # shows which env your kernel uses\n",
    "%pip install matplotlib\n",
    "\n"
   ]
  },
  {
   "cell_type": "code",
   "execution_count": 5,
   "id": "ad60d460-31bd-4652-bb9c-6cd9291c3338",
   "metadata": {},
   "outputs": [
    {
     "name": "stdout",
     "output_type": "stream",
     "text": [
      "              precision    recall  f1-score   support\n",
      "\n",
      "           0       1.00      1.00      1.00        12\n",
      "           1       0.87      1.00      0.93        13\n",
      "           2       1.00      0.85      0.92        13\n",
      "\n",
      "    accuracy                           0.95        38\n",
      "   macro avg       0.96      0.95      0.95        38\n",
      "weighted avg       0.95      0.95      0.95        38\n",
      "\n"
     ]
    },
    {
     "data": {
      "image/png": "[encoded data removed]",
      "text/plain": [
       "<Figure size 640x480 with 2 Axes>"
      ]
     },
     "metadata": {},
     "output_type": "display_data"
    }
   ],
   "source": [
    "%matplotlib inline\n",
    "from sklearn.metrics import confusion_matrix, ConfusionMatrixDisplay, classification_report\n",
    "\n",
    "cm = confusion_matrix(yte, yp)\n",
    "ConfusionMatrixDisplay(cm).plot()\n",
    "print(classification_report(yte, yp))"
   ]
  },
  {
   "cell_type": "code",
   "execution_count": null,
   "id": "69937eb5-b0d4-48d4-9be4-ce2d57789bd7",
   "metadata": {},
   "outputs": [],
   "source": []
  }
 ],
 "metadata": {
  "kernelspec": {
   "display_name": "Python 3 (ipykernel)",
   "language": "python",
   "name": "python3"
  },
  "language_info": {
   "codemirror_mode": {
    "name": "ipython",
    "version": 3
   },
   "file_extension": ".py",
   "mimetype": "text/x-python",
   "name": "python",
   "nbconvert_exporter": "python",
   "pygments_lexer": "ipython3",
   "version": "3.13.5"
  }
 },
 "nbformat": 4,
 "nbformat_minor": 5
}
